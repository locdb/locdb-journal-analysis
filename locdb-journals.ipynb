{
 "cells": [
  {
   "cell_type": "markdown",
   "metadata": {},
   "source": [
    "# Journal Analysis of the LOC-DB Project\n",
    "\n",
    "\n",
    "Here we make an analysis of the journals covered by the LOC-DB project. For the first part we concentrate on the social sciences journals licensed by the Mannheim University Library published in 2011.\n",
    "\n",
    "## Requirements\n",
    "\n",
    "You need to have jupyter installed together with python, and in python you need the crossrefapi, which can be installed for example like this:\n",
    "```py\n",
    "pip install crossrefapi\n",
    "```"
   ]
  },
  {
   "cell_type": "code",
   "execution_count": 82,
   "metadata": {
    "collapsed": true
   },
   "outputs": [],
   "source": [
    "from crossref.restful import Works, Journals\n",
    "#works = Works()\n",
    "#journals = Journals()"
   ]
  },
  {
   "cell_type": "markdown",
   "metadata": {},
   "source": [
    "We have 100 journals with their ISSNs. We save them here into a list:"
   ]
  },
  {
   "cell_type": "code",
   "execution_count": 114,
   "metadata": {
    "collapsed": true
   },
   "outputs": [],
   "source": [
    "issnList =  ['0342-300X', '0033-5177', '0340-0425', '0023-2653', '0049-089x', '1550-3585', '0335-5322', '0065-2601', '0342-2275', '0092-6566', '0340-613x', '1869-8980', '0097-9740', '1864-9335', '0514-2776', '0038-6073', '0003-1224', '0018-7267', '0038-0164', '0027-3171', '0037-783X', '0035-2969', '0033-362X', '0038-0261', '0037-7732', '0022-2445', '0022-1031', '0038-0296', '0197-6664', '0894-3257', '0067-5830', '0146-1672', '0165-4896', '0278-016X', '0002-9602', '0007-1315', '0020-7152', '0011-3204', '0018-7259', '0037-8046', '0019-8676', '0022-3506', '0163-786X', '0378-8733', '0539-0184', '0038-0385', '0038-0407', '0066-6505', '0171-5860', '0933-9361', '0735-2751', '0266-7215', '0276-5624', '0749-5978', '0174-0202', '0048-8046', '0343-4109', '0001-6993', '0197-3533', '0360-0572', '0162-895x', '0002-7642', '1231-1413', '0046-2772', '0022-250x', '0340-1804', '0021-8308', '0094-3061', '0049-1241', '0048-3931', '1536-867X', '0730-8884', '0948-423X', '1749-5679', '0340-918X', '1043-4631', '1469-5405', '0891-2432', '0950-0170', '1477-996X', '0141-9889', '0098-7921', '0304-2421', '0011-3921', '0032-3292', '0044-118x', '0863-1808', '0263-2764', '0002-7162', '0038-609x', '0037-7791', '0012-155X', '0958-9287', '0951-6328', '1438-5627', '1864-3361', '1360-7804', '1435-9871', '0959-6801', '1468-0181', '0019-8692']\n",
    "# For testing use only the second line, but for the final results you need to comment it out.\n",
    "#issnList =  ['0342-300X', '0033-5177']"
   ]
  },
  {
   "cell_type": "markdown",
   "metadata": {},
   "source": [
    "## Number of Articles Published in 2011"
   ]
  },
  {
   "cell_type": "code",
   "execution_count": 93,
   "metadata": {
    "collapsed": true
   },
   "outputs": [],
   "source": [
    "inCrossref = {}"
   ]
  },
  {
   "cell_type": "code",
   "execution_count": 94,
   "metadata": {},
   "outputs": [
    {
     "name": "stdout",
     "output_type": "stream",
     "text": [
      "(86, 5737, 66)\n"
     ]
    }
   ],
   "source": [
    "k = 0\n",
    "sum = 0\n",
    "for issn in issnList:\n",
    "    journal = Journals().journal(issn)\n",
    "    if journal:\n",
    "        inCrossref[issn] = True\n",
    "        if (journal['breakdowns'] and journal['breakdowns']['dois-by-issued-year']):\n",
    "            dois = journal['breakdowns']['dois-by-issued-year']\n",
    "            #results[issn]['doisPerYear'] = {}\n",
    "            for doi in dois:\n",
    "                if doi[0]==2011:\n",
    "                    k += 1\n",
    "                    sum += doi[1]\n",
    "    else:\n",
    "        inCrossref[issn] = False\n",
    "print(k, sum, sum/k)"
   ]
  },
  {
   "cell_type": "markdown",
   "metadata": {},
   "source": [
    "Thus, we have found 86 journals in Crossref. The number of DOIs these journals registered in Crossref is 5737, which gives an average of **66 DOIs per journal**. Because every journal article has a DOI, we can take this as an upper bound for the number of articles published in a year."
   ]
  },
  {
   "cell_type": "markdown",
   "metadata": {},
   "source": [
    "## References in one Journal Article\n",
    "\n",
    "Next, we count the number of references per journal article. This takes quite some time for the whole list of ISSNs. Therefore, we skip all journals not in Crossref beforehands by the variable `inCrossref` created above. Moreover, in the same run we can count how many of the references are structered such that they contain a DOI, title, year."
   ]
  },
  {
   "cell_type": "code",
   "execution_count": 119,
   "metadata": {},
   "outputs": [
    {
     "name": "stdout",
     "output_type": "stream",
     "text": [
      "(3835, 80, 169361, 44)\n",
      "(59726, 73852, 73205)\n",
      "7302\n"
     ]
    }
   ],
   "source": [
    "k = 0\n",
    "z = 0\n",
    "sum = 0\n",
    "errors = 0\n",
    "withDOI = 0\n",
    "withTitle = 0\n",
    "withYear = 0\n",
    "onlyUnstructured = 0\n",
    "for issn in issnList:\n",
    "    if (results[issn]['found']):\n",
    "        works = Journals().works(issn).filter(has_references=\"true\").filter(from_pub_date=2011).filter(until_pub_date=2011)\n",
    "        for article in works:\n",
    "            nref = article['reference-count']\n",
    "            k += 1\n",
    "            sum += nref\n",
    "            if ('reference' in article):\n",
    "                for reference in article['reference']:\n",
    "                    if ('DOI' in reference): withDOI += 1\n",
    "                    if ('title' in reference or 'volume-title' in reference or 'journal-title' in reference): withTitle += 1\n",
    "                    #else: print(reference)\n",
    "                    if ('year' in reference): withYear += 1\n",
    "                    if ('key' in reference and 'unstructured' in reference and len(reference)==2): onlyUnstructured += 1\n",
    "            else: errors += 1\n",
    "        if (works.count()>0): z += 1\n",
    "print(k, z, sum, sum/k)\n",
    "print(withDOI, withTitle, withYear)\n",
    "print(onlyUnstructured)"
   ]
  },
  {
   "cell_type": "markdown",
   "metadata": {},
   "source": [
    "Crossref has references of 3835 journal articles suming up to 169.361 single references, i.e. **44 references in average per article**. Journals not in Crossref or without references in Crossref are not considered here for calculating the average number, because they will also have list of references."
   ]
  },
  {
   "cell_type": "markdown",
   "metadata": {},
   "source": [
    "Out of these 169.361 references 7.302 (4%) have only unstructured information. The remaining references have some structured information, e.g.:\n",
    "* 59.726 (35%) have a DOI\n",
    "* 73.852 (44%) have a title (including journal title or volume title)\n",
    "* 73.205 (43%) have a year"
   ]
  },
  {
   "cell_type": "code",
   "execution_count": null,
   "metadata": {},
   "outputs": [],
   "source": []
  }
 ],
 "metadata": {
  "kernelspec": {
   "display_name": "Python 2",
   "language": "python",
   "name": "python2"
  },
  "language_info": {
   "codemirror_mode": {
    "name": "ipython",
    "version": 2
   },
   "file_extension": ".py",
   "mimetype": "text/x-python",
   "name": "python",
   "nbconvert_exporter": "python",
   "pygments_lexer": "ipython2",
   "version": "2.7.12"
  }
 },
 "nbformat": 4,
 "nbformat_minor": 2
}
